{
  "cells": [
    {
      "cell_type": "markdown",
      "metadata": {},
      "source": [
        "## ***Responsible AI - 2024***\n",
        "### *Laboratorio 2 - OBJRECLAB*"
      ]
    },
    {
      "cell_type": "markdown",
      "metadata": {},
      "source": [
        "--------------------\n",
        "\n",
        "**NOMBRES**: Stefano Alberto\n",
        "\n",
        "**APELLIDOS**: Aragoni Maldonado\n",
        "\n",
        "**CARNE**: 20261\n",
        "\n",
        "**FECHA**: 23/08/2024\n",
        "\n",
        "**LINK**: https://github.com/stefanoaragoni/OBJRECLAB"
      ]
    },
    {
      "cell_type": "markdown",
      "metadata": {
        "id": "48-U5dvMxDBK"
      },
      "source": [
        "--------------------\n",
        "\n",
        "### **Instrucciones:**\n",
        "\n",
        "\n"
      ]
    }
  ],
  "metadata": {
    "colab": {
      "provenance": []
    },
    "kernelspec": {
      "display_name": "Python 3",
      "name": "python3"
    },
    "language_info": {
      "codemirror_mode": {
        "name": "ipython",
        "version": 3
      },
      "file_extension": ".py",
      "mimetype": "text/x-python",
      "name": "python",
      "nbconvert_exporter": "python",
      "pygments_lexer": "ipython3",
      "version": "3.9.2"
    }
  },
  "nbformat": 4,
  "nbformat_minor": 0
}
